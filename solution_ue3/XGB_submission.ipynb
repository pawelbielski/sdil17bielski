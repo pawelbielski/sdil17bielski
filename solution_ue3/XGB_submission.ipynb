{
 "cells": [
  {
   "cell_type": "markdown",
   "metadata": {},
   "source": [
    "### Exporting submission to Kaggle"
   ]
  },
  {
   "cell_type": "code",
   "execution_count": 121,
   "metadata": {
    "collapsed": true
   },
   "outputs": [],
   "source": [
    "import pandas as pd\n",
    "import numpy as np\n",
    "\n",
    "import matplotlib.pyplot as plt"
   ]
  },
  {
   "cell_type": "code",
   "execution_count": 122,
   "metadata": {
    "scrolled": false
   },
   "outputs": [
    {
     "name": "stdout",
     "output_type": "stream",
     "text": [
      "(878049, 9)\n",
      "(884262, 7)\n"
     ]
    }
   ],
   "source": [
    "train_df = pd.read_csv('train.csv', parse_dates=['Dates'])\n",
    "test_df = pd.read_csv('test.csv', parse_dates=['Dates'])\n",
    "print(train_df.shape)\n",
    "print(test_df.shape)"
   ]
  },
  {
   "cell_type": "code",
   "execution_count": 125,
   "metadata": {
    "collapsed": true
   },
   "outputs": [],
   "source": [
    "all_classes = ['ARSON', 'ASSAULT', 'BAD CHECKS', 'BRIBERY', 'BURGLARY',\n",
    "       'DISORDERLY CONDUCT', 'DRIVING UNDER THE INFLUENCE',\n",
    "       'DRUG/NARCOTIC', 'DRUNKENNESS', 'EMBEZZLEMENT', 'EXTORTION',\n",
    "       'FAMILY OFFENSES', 'FORGERY/COUNTERFEITING', 'FRAUD', 'GAMBLING',\n",
    "       'KIDNAPPING', 'LARCENY/THEFT', 'LIQUOR LAWS', 'LOITERING',\n",
    "       'MISSING PERSON', 'NON-CRIMINAL', 'OTHER OFFENSES',\n",
    "       'PORNOGRAPHY/OBSCENE MAT', 'PROSTITUTION', 'RECOVERED VEHICLE',\n",
    "       'ROBBERY', 'RUNAWAY', 'SECONDARY CODES', 'SEX OFFENSES FORCIBLE',\n",
    "       'SEX OFFENSES NON FORCIBLE', 'STOLEN PROPERTY', 'SUICIDE',\n",
    "       'SUSPICIOUS OCC', 'TREA', 'TRESPASS', 'VANDALISM', 'VEHICLE THEFT',\n",
    "       'WARRANTS', 'WEAPON LAWS']"
   ]
  },
  {
   "cell_type": "code",
   "execution_count": 126,
   "metadata": {},
   "outputs": [
    {
     "name": "stdout",
     "output_type": "stream",
     "text": [
      "Any missing values?\n",
      "('In train: ', False)\n"
     ]
    }
   ],
   "source": [
    "print('Any missing values?')\n",
    "print('In train: ', pd.isnull(train_df).values.any())"
   ]
  },
  {
   "cell_type": "code",
   "execution_count": 127,
   "metadata": {
    "collapsed": true
   },
   "outputs": [],
   "source": [
    "def odds(x):\n",
    "    if x == 1.0:\n",
    "        return 1.0\n",
    "    else:\n",
    "        return np.log(x)-np.log(1-x)\n",
    "def update_odds(x):\n",
    "    default = default_logodds.copy()\n",
    "    val = oddUpdate[x]\n",
    "    if len(val)!=1:\n",
    "        default[val.keys()] = val\n",
    "    return pd.Series(default)\n",
    "    #return default\n",
    "\n",
    "def get_logodds(x):   \n",
    "    try:\n",
    "        return  logodds[x]\n",
    "    except KeyError:\n",
    "    # Key is not present\n",
    "        return default_logodds\n",
    "    \n",
    "def get_logoddsPA(x):   \n",
    "    try:\n",
    "        return  logoddsPA[x]\n",
    "    except KeyError:\n",
    "    # Key is not present\n",
    "        return meanLogoddsPA"
   ]
  },
  {
   "cell_type": "code",
   "execution_count": 128,
   "metadata": {
    "collapsed": true
   },
   "outputs": [],
   "source": [
    "addresses = sorted(train_df[\"Address\"].unique())\n",
    "categories = sorted(train_df[\"Category\"].unique())\n",
    "logodds = {}\n",
    "\n",
    "C_counts = train_df.groupby([\"Category\"]).size()\n",
    "logoddsPA = dict((train_df.groupby('Address').size()/len(train_df)).apply(odds))\n",
    "meanLogoddsPA = float(sum(d for d in logoddsPA.values())) / len(logoddsPA)\n",
    "default_logodds = np.log(C_counts/len(train_df))-np.log(1.0-C_counts/float(len(train_df)))\n",
    "oddUpdate = pd.Series(((train_df.groupby(['Address','Category']).size()/train_df.groupby(['Address']).size()).apply(odds)))\n",
    "logodds = {k:update_odds(k) for k in addresses}\n",
    "\n",
    "def compute_loggods(df, logodds, logoddsPA):\n",
    "    \n",
    "    address_features=df[\"Address\"].apply(lambda x: get_logodds(x))\n",
    "    address_features.columns=[\"logodds\"+str(x) for x in range(len(address_features.columns))]\n",
    "    \n",
    "    df[\"logoddsPA\"]=df[\"Address\"].apply(lambda x: get_logoddsPA(x))\n",
    "    \n",
    "    df = pd.concat([df,address_features], axis=1)\n",
    "    \n",
    "    return df\n"
   ]
  },
  {
   "cell_type": "code",
   "execution_count": 129,
   "metadata": {
    "collapsed": true
   },
   "outputs": [],
   "source": [
    "from pandas.tseries.holiday import USFederalHolidayCalendar as calendar\n",
    "from pandas.tseries.holiday import Holiday, HolidayCalendarFactory, FR, DateOffset\n",
    "\n",
    "def transform_date(df):\n",
    "    \"\"\"\n",
    "    Split Dates into Date, Year, Month, Day, DayofYear, Hour and Minute\n",
    "    \"\"\"\n",
    "    df['Date'] = pd.to_datetime(df['Dates'].dt.date)\n",
    "    df['Year'] = df['Dates'].dt.year\n",
    "    df['Month'] = df['Dates'].dt.month\n",
    "    df['Day'] = df['Dates'].dt.day\n",
    "    df['DayOfYear'] = df['Dates'].dt.dayofyear   # the ordinal day of the year\n",
    "    df['Time'] = df['Dates'].dt.hour + df['Dates'].dt.minute/60\n",
    "    df['Hour'] = df['Dates'].dt.hour\n",
    "    df['Minutes'] = df['Dates'].dt.minute\n",
    "    del df['Dates']\n",
    "    \n",
    "    return df\n",
    "\n",
    "def dummy_day_of_week(df):\n",
    "    listOfDays = df['DayOfWeek'].unique()\n",
    "    \n",
    "    for day in listOfDays:\n",
    "        col_name = \"is\" + day\n",
    "        \n",
    "        df[col_name] = ((df['DayOfWeek'] == day) == True)\n",
    "        \n",
    "    return df\n",
    "\n",
    "def compute_season(df):\n",
    "\n",
    "    df['isSummer'] = ((df['Month'].isin([5,6,7])) == True)\n",
    "    df['isFall']= ((df['Month'].isin([8,9,10])) == True)\n",
    "    df['isWinter']= ((df['Month'].isin([11,0,1])) == True)\n",
    "    df['isSpring']= ((df['Month'].isin([2,3,4])) == True)\n",
    "    \n",
    "    return df\n",
    "\n",
    "def compute_working_days(df):\n",
    "    \"\"\"\n",
    "    Check if working day, include information about holidays:\n",
    "    New Year, Memorial Day, Independence Day, Labor Day, Thanksgiving, Black Friday, Christmas\n",
    "    \"\"\"\n",
    "    cal = calendar()\n",
    "\n",
    "    # create new rule for Black Friday\n",
    "    USBlackFriday = Holiday('BlackFriday', month=11, day=1,\n",
    "                            offset=DateOffset(weekday=FR(4)))\n",
    "\n",
    "    # create own holiday calendar based on the above rules\n",
    "    ownCal = HolidayCalendarFactory('OwnCalendar', cal, USBlackFriday)\n",
    "    cal = ownCal()\n",
    "    holidays = cal.holidays(start='2003-01-01', end='2015-05-13')\n",
    "\n",
    "    # set flag according to whether the day is a holiday, a weekend or not\n",
    "    df['isWorkingday'] = ((df['DayOfWeek'].isin(['Saturday', 'Sunday'])==False) & \n",
    "                          (df['Date'].isin(holidays)==False))\n",
    "\n",
    "    # transform from True/False into 1/0\n",
    "    df['isWorkingday'] = df['isWorkingday'].astype(int)\n",
    "    \n",
    "    return df\n",
    "    \n",
    "def compute_night(df):\n",
    "    df['Night'] = True\n",
    "    \n",
    "    df.loc[(df['Month'] ==  1) & (df['Time'] > 7.3) & (df['Time'] < 17.3), 'Night'] = False\n",
    "    df.loc[(df['Month'] ==  2) & (df['Time'] > 7.0) & (df['Time'] < 17.8), 'Night'] = False\n",
    "    df.loc[(df['Month'] ==  3) & (df['Time'] > 6.3) & (df['Time'] < 18.3), 'Night'] = False\n",
    "    df.loc[(df['Month'] ==  4) & (df['Time'] > 5.5) & (df['Time'] < 18.8), 'Night'] = False\n",
    "    df.loc[(df['Month'] ==  5) & (df['Time'] > 5.0) & (df['Time'] < 19.3), 'Night'] = False\n",
    "    df.loc[(df['Month'] ==  6) & (df['Time'] > 4.8) & (df['Time'] < 19.5), 'Night'] = False\n",
    "    df.loc[(df['Month'] ==  7) & (df['Time'] > 5.0) & (df['Time'] < 19.5), 'Night'] = False\n",
    "    df.loc[(df['Month'] ==  8) & (df['Time'] > 5.5) & (df['Time'] < 19.0), 'Night'] = False\n",
    "    df.loc[(df['Month'] ==  9) & (df['Time'] > 5.8) & (df['Time'] < 18.3), 'Night'] = False\n",
    "    df.loc[(df['Month'] == 10) & (df['Time'] > 6.3) & (df['Time'] < 17.5), 'Night'] = False\n",
    "    df.loc[(df['Month'] == 11) & (df['Time'] > 6.8) & (df['Time'] < 17.0), 'Night'] = False\n",
    "    df.loc[(df['Month'] == 12) & (df['Time'] > 7.3) & (df['Time'] < 16.9), 'Night'] = False\n",
    "\n",
    "    # transform from True/False into 1/0\n",
    "    df['Night'] = df['Night'].astype(int)\n",
    "    return df\n",
    "\n",
    "def features_date(df):\n",
    "    df = transform_date(df)\n",
    "    df = compute_working_days(df)\n",
    "    df = compute_season(df)\n",
    "    df = compute_night(df)\n",
    "    #df = dummy_day_of_week(df)\n",
    "    \n",
    "    return df"
   ]
  },
  {
   "cell_type": "code",
   "execution_count": 130,
   "metadata": {
    "collapsed": true
   },
   "outputs": [],
   "source": [
    "def categorize_crimes(df):\n",
    "    otherCrimes = ['WARRANTS','OTHER OFFENSES','WEAPON LAWS','SECONDARY CODES']\n",
    "    familyCrimes = ['MISSING PERSON','RUNAWAY', 'FAMILY OFFENSES','SUICIDE']\n",
    "    violentCrimes = ['ASSAULT','SEX OFFENSES FORCIBLE','ARSON','KIDNAPPING']\n",
    "    theftBurglary = ['LARCENY/THEFT','VEHICLE THEFT','ROBBERY','BURGLARY','STOLEN PROPERTY','RECOVERED VEHICLE']\n",
    "    economicCrimes = ['FORGERY/COUNTERFEITING','FRAUD', 'BRIBERY', 'EMBEZZLEMENT', 'BAD CHECKS', 'EXTORTION']\n",
    "    publicDisorder = ['VANDALISM','NON-CRIMINAL', 'SUSPICIOUS OCC','TRESPASS','PROSTITUTION', 'DISORDERLY CONDUCT',\n",
    "                  'LOITERING', 'SEX OFFENSES NON FORCIBLE', 'PORNOGRAPHY/OBSCENE MAT','TREA', 'GAMBLING']  \n",
    "    drugsAlcohol = ['DRUNKENNESS','DRUG/NARCOTIC', 'DRIVING UNDER THE INFLUENCE', 'LIQUOR LAWS']\n",
    "    \n",
    "    df['isOtherCrimes'] = df['Category'].isin(otherCrimes)\n",
    "    df['isFamilyCrimes'] = df['Category'].isin(familyCrimes)\n",
    "    df['isViolentCrimes'] = df['Category'].isin(violentCrimes)\n",
    "    df['isTheftBurglary'] = df['Category'].isin(theftBurglary)\n",
    "    df['isEconomicCrimes'] = df['Category'].isin(economicCrimes)\n",
    "\n",
    "    return df\n",
    "\n",
    "def check_intersection(df):\n",
    "    # check whether address is an intersection or not\n",
    "    # one column, i.e. 1 for intersection and 0 for block should suffice\n",
    "    df['isStreetCorner'] = df['Address'].apply(lambda x: 1 if '/' in x else 0)\n",
    "    return df\n",
    "\n",
    "def dummy_districts(df):\n",
    "    listOfDistricts = df['PdDistrict'].unique()\n",
    "    \n",
    "    for district in listOfDistricts:\n",
    "        col_name = \"is\" + district\n",
    "        \n",
    "        df[col_name] = ((df['PdDistrict'] == district) == True)\n",
    "        \n",
    "    return df\n",
    "\n",
    "def features_crime(df):\n",
    "    #df = categorize_crimes(df)\n",
    "    df = compute_loggods(df, logodds, logoddsPA)\n",
    "    df = check_intersection(df)\n",
    "    #df = dummy_districts(df)\n",
    "    \n",
    "    return df"
   ]
  },
  {
   "cell_type": "code",
   "execution_count": 131,
   "metadata": {
    "collapsed": true
   },
   "outputs": [],
   "source": [
    "def combine(str1, str2):\n",
    "    # combine str1 and str2 ordered alphabetically\n",
    "    return sorted([str1, str2], key=str.lower)[0] + ' ' + sorted([str1, str2], key=str.lower)[1]\n",
    "\n",
    "def cleanIntersectionAddress(intAddress):\n",
    "    intAddress['Street_1'] = intAddress['Address'].str.split('/').str[0].str.rstrip()\n",
    "    intAddress['Street_2'] = intAddress['Address'].str.split('/').str[1].str.lstrip()\n",
    "    # replace VIA * by *\n",
    "    intAddress.loc[intAddress['Street_1'].str.startswith('VIA'), 'Street_1'] = \\\n",
    "        intAddress.loc[intAddress['Street_1'].str.startswith('VIA'), 'Street_1'].str.replace('VIA', '').str.lstrip()\n",
    "    intAddress.loc[intAddress['Street_2'].str.startswith('VIA'), 'Street_2'] = \\\n",
    "        intAddress.loc[intAddress['Street_2'].str.startswith('VIA'), 'Street_2'].str.replace('VIA', '').str.lstrip()\n",
    "    # replace AVENUE OF THE PALMS by PALMS\n",
    "    intAddress.loc[intAddress['Street_1'].str.startswith('AVENUE'), 'Street_1'] = \\\n",
    "        intAddress.loc[intAddress['Street_1'].str.startswith('AVENUE'), 'Street_1'].str.replace('AVENUE OF THE',\n",
    "                                                                                                '').str.lstrip()\n",
    "    intAddress.loc[intAddress['Street_2'].str.startswith('AVENUE'), 'Street_2'] = \\\n",
    "        intAddress.loc[intAddress['Street_2'].str.startswith('AVENUE'), 'Street_2'].str.replace('AVENUE OF THE',\n",
    "                                                                                                '').str.lstrip()\n",
    "    removeList = [' AL', ' AV', ' BL', ' CR', ' CT', ' DR', ' EX', ' HWY', ' HY',\n",
    "                  ' LN', ' PL', ' PZ', ' RD', ' RW', ' ST', ' STWY', ' TER',\n",
    "                  ' TR', ' WAY', ' WK', ' WY', 'STNORTH']\n",
    "    for key in removeList:\n",
    "        intAddress.loc[intAddress['Street_1'].str.endswith(key), 'Street_1'] = \\\n",
    "            intAddress.loc[intAddress['Street_1'].str.endswith(key), 'Street_1'].str.replace(key, '').str.rstrip()\n",
    "        intAddress.loc[intAddress['Street_2'].str.endswith(key), 'Street_2'] = \\\n",
    "            intAddress.loc[intAddress['Street_2'].str.endswith(key), 'Street_2'].str.replace(key, '').str.rstrip()\n",
    "\n",
    "    # remove all whitespaces\n",
    "    intAddress['Street_1'] = intAddress['Street_1'].str.replace(' ', '')\n",
    "    intAddress['Street_2'] = intAddress['Street_2'].str.replace(' ', '')\n",
    "\n",
    "    # create new address for the replacement, combine the names\n",
    "    # in Street_1 and Street_2 in alphabetical ordering\n",
    "    intAddress['Address'] = intAddress.apply(lambda x: combine(x['Street_1'], x['Street_2']), axis=1)\n",
    "    return intAddress['Address']\n",
    "\n",
    "def cleanBlockAddress(blockAddress):\n",
    "    # remove 'Block' and 'of' from address\n",
    "    mapping = [('Block', ''),\n",
    "               ('of', '')\n",
    "               ]\n",
    "    for key, value in mapping:\n",
    "        blockAddress['Address'] = blockAddress['Address'].str.replace(key, value)\n",
    "\n",
    "    # get number from address\n",
    "    blockAddress['Number'] = blockAddress['Address'].str.split().str[0]\n",
    "    # get street name from address, remove leading whitespaces\n",
    "    blockAddress['Street'] = blockAddress['Address'].str.split(' ', 1).str[1].str.lstrip()\n",
    "    del blockAddress['Address']\n",
    "    # replace VIA * by *\n",
    "    blockAddress.loc[blockAddress['Street'].str.startswith('VIA'), 'Street'] = \\\n",
    "        blockAddress.loc[blockAddress['Street'].str.startswith('VIA'), 'Street'].str.replace('VIA', '').str.lstrip()\n",
    "    # replace AVENUE OF THE PALMS by PALMS\n",
    "    blockAddress.loc[blockAddress['Street'].str.startswith('AVENUE'), 'Street'] = \\\n",
    "        blockAddress.loc[blockAddress['Street'].str.startswith('AVENUE'), 'Street'].str.replace('AVENUE OF THE',\n",
    "                                                                                                '').str.lstrip()\n",
    "    removeList = [' AL', ' AV', ' BL', ' CR', ' CT', ' DR', ' EX', ' HWY', ' HY',\n",
    "                  ' LN', ' PL', ' PZ', ' RD', ' RW', ' ST', ' STWY', ' TER',\n",
    "                  ' TR', ' WAY', ' WK', ' WY', 'STNORTH']\n",
    "    for key in removeList:\n",
    "        blockAddress.loc[blockAddress['Street'].str.endswith(key), 'Street'] = \\\n",
    "            blockAddress.loc[blockAddress['Street'].str.endswith(key), 'Street'].str.replace(key, '').str.rstrip()\n",
    "\n",
    "    # remove all whitespaces\n",
    "    blockAddress['Street'] = blockAddress['Street'].str.replace(' ', '')\n",
    "    # create new address for the replacement\n",
    "    blockAddress['Address'] = blockAddress['Number'] + ' ' + blockAddress['Street']\n",
    "    return blockAddress['Address']\n",
    "\n",
    "\n",
    "def clean_intersect_block_address(df):\n",
    "    df.loc[df['isStreetCorner'] == 0, 'Address'] = \\\n",
    "        cleanBlockAddress(pd.DataFrame(df.loc[df['isStreetCorner'] == 0, 'Address']))\n",
    "    df.loc[df['isStreetCorner'] == 1, 'Address'] = \\\n",
    "        cleanIntersectionAddress(pd.DataFrame(df.loc[df['isStreetCorner'] == 1, 'Address']))\n",
    "        \n",
    "    return df\n"
   ]
  },
  {
   "cell_type": "code",
   "execution_count": 132,
   "metadata": {
    "collapsed": true
   },
   "outputs": [],
   "source": [
    "from sklearn.preprocessing import MinMaxScaler, LabelEncoder\n",
    "\n",
    "def xy_clean(df):\n",
    "    # medians of X and Y by police district\n",
    "    listOfPrecincts = df['PdDistrict'].unique()\n",
    "    precinctX = (df.groupby('PdDistrict'))['X'].median()\n",
    "    precinctY = (df.groupby('PdDistrict'))['Y'].median()\n",
    "\n",
    "    # impute wrong values with the medians\n",
    "    for i in range(len(listOfPrecincts)) :\n",
    "        df.loc[ (df['Y'] > 38) & (df['PdDistrict'] == listOfPrecincts[i]), 'X'] = \\\n",
    "            precinctX[listOfPrecincts[i]]\n",
    "        df.loc[(df['Y'] > 38) & (df['PdDistrict'] == listOfPrecincts[i]), 'Y'] = \\\n",
    "            precinctY[listOfPrecincts[i]]\n",
    "            \n",
    "    return df\n",
    "        \n",
    "\n",
    "def xy_scale(df):\n",
    "    xy_scaler = MinMaxScaler() \n",
    "    xy_scaler.fit(df[[\"X\",\"Y\"]]) \n",
    "    df[[\"X\",\"Y\"]]=xy_scaler.transform(df[[\"X\",\"Y\"]]) \n",
    "    \n",
    "    return df\n",
    "\n",
    "def xy_rotate(df):\n",
    "    \"\"\"\n",
    "    rotate coordinates by 30, 45, 60 degrees\n",
    "    \"\"\"\n",
    "    df[\"rot45_X\"] = 0.707* df[\"Y\"] + 0.707* df[\"X\"]\n",
    "    df[\"rot45_Y\"] = 0.707* df[\"Y\"] - 0.707* df[\"X\"]\n",
    "    df[\"rot30_X\"] = 0.866* df[\"X\"] + 0.5* df[\"Y\"]\n",
    "    df[\"rot30_Y\"] = 0.866* df[\"Y\"] - 0.5* df[\"X\"]\n",
    "    df[\"rot60_X\"] = 0.5* df[\"X\"] + 0.866* df[\"Y\"]\n",
    "    df[\"rot60_Y\"] = 0.5* df[\"Y\"] - 0.866* df[\"X\"] \n",
    "    return df\n",
    "\n",
    "def xy_distance_from_center(df):\n",
    "    \"\"\"\n",
    "    Compute radial distance from center of map\n",
    "    \"\"\"\n",
    "    df[\"radial_r\"] = np.sqrt( np.power(df[\"Y\"],2) + np.power(df[\"X\"],2) )\n",
    "    return df\n",
    "\n",
    "\n",
    "def xy_distance_from_crime_median(df, df_test=None):\n",
    "    # medians of X and Y by crime category\n",
    "    listOfCrimes = df['Category'].unique()\n",
    "    crimeX = (df.groupby('Category'))['X'].median()\n",
    "    crimeY = (df.groupby('Category'))['Y'].median()\n",
    "    \n",
    "    \n",
    "    if df_test is None: \n",
    "        # compute distance from from crime median\n",
    "        for crime_name in listOfCrimes:\n",
    "        #for i in range(len(listOfCrimes)):\n",
    "            df[crime_name+\"_r\"] = np.sqrt( np.power(df[\"Y\"]-crimeY[crime_name],2) + np.power(df[\"X\"]-crimeX[crime_name],2) )\n",
    "\n",
    "            # debug version\n",
    "            #df[listOfCrimes[0]+\"_r\"] = numpy.sqrt( numpy.power(df[\"Y\"]-crimeY[listOfCrimes[0]],2) + numpy.power(df[\"X\"]-crimeX[listOfCrimes[0]],2) )\n",
    "      \n",
    "        return df\n",
    "    \n",
    "    else:\n",
    "        # compute distance from from crime median\n",
    "        for crime_name in listOfCrimes:\n",
    "            df_test[crime_name+\"_r\"] = np.sqrt( np.power(df_test[\"Y\"]-crimeY[crime_name],2) + np.power(df_test[\"X\"]-crimeX[crime_name],2) )\n",
    "\n",
    "        return df_test        \n",
    "        \n",
    "\n",
    "\n",
    "def create_grid_xy(df,x_axis=5,y_axis=5):\n",
    "    step_x = 1.0/x_axis\n",
    "    step_y = 1.0/y_axis\n",
    "    \n",
    "    for i in range(x_axis):\n",
    "        for j in range(y_axis):\n",
    "            bin_name = 'Bin'+str(i)+'_'+str(j)\n",
    "            \n",
    "            if i == x_axis-1 & j != y_axis-1:\n",
    "                df[bin_name] = (((df['X'] >= i*step_x) == True) &\n",
    "                                ((df['X'] <=(i+1)*step_x) == True) & \n",
    "                                ((df['Y'] >= j*step_y) == True) & \n",
    "                                ((df['Y'] < (j+1)*step_y) == True))\n",
    "                              \n",
    "            elif i != x_axis-1 & j == y_axis-1:\n",
    "                df[bin_name] = (((df['X'] >= i*step_x) == True) &\n",
    "                                ((df['X'] <(i+1)*step_x) == True) & \n",
    "                                ((df['Y'] >= j*step_y) == True) & \n",
    "                                ((df['Y'] <= (j+1)*step_y) == True))                \n",
    "            elif i == x_axis-1 & j == y_axis-1:\n",
    "                df[bin_name] = (((df['X'] >= i*step_x) == True) &\n",
    "                                ((df['X'] <=(i+1)*step_x) == True) & \n",
    "                                ((df['Y'] >= j*step_y) == True) & \n",
    "                                ((df['Y'] <= (j+1)*step_y) == True))               \n",
    "            else:\n",
    "                df[bin_name] = (((df['X'] >= i*step_x) == True) &\n",
    "                                ((df['X'] <(i+1)*step_x) == True) & \n",
    "                                ((df['Y'] >= j*step_y) == True) & \n",
    "                                ((df['Y'] < (j+1)*step_y) == True))               \n",
    "\n",
    "    return df\n",
    "    \n",
    "    \n",
    "def features_xy(df):\n",
    "    df = xy_clean(df)\n",
    "    df = xy_scale(df)\n",
    "    df = xy_rotate(df)\n",
    "    df = xy_distance_from_center(df)\n",
    "    #df = xy_distance_from_crime_median(df)\n",
    "    #df = create_grid_xy(df,x_axis=5,y_axis=5)\n",
    "    return df\n",
    "\n",
    "def features_xy_test(df, df_test):\n",
    "    df_test = xy_clean(df_test)\n",
    "    df_test = xy_scale(df_test)\n",
    "    df_test = xy_rotate(df_test)\n",
    "    df_test = xy_distance_from_center(df_test)\n",
    "    #df_test = xy_distance_from_crime_median(df,df_test)\n",
    "    #df_test = create_grid_xy(df_test,x_axis=5,y_axis=5)\n",
    "    return df_test"
   ]
  },
  {
   "cell_type": "code",
   "execution_count": 133,
   "metadata": {
    "collapsed": true
   },
   "outputs": [],
   "source": [
    "def label_encode(df):\n",
    "    \"\"\"\n",
    "    Label encode PdDistrict and DayOfWeek\n",
    "    \"\"\"\n",
    "    lab_enc = LabelEncoder()\n",
    "    df['PdDistrict'] = lab_enc.fit_transform(df.PdDistrict)\n",
    "    df['DayOfWeek'] = lab_enc.fit_transform(df.DayOfWeek)\n",
    "    #df['Bin'] = lab_enc.fit_transform(df.Bin)\n",
    "    return df"
   ]
  },
  {
   "cell_type": "code",
   "execution_count": 134,
   "metadata": {
    "collapsed": true
   },
   "outputs": [],
   "source": [
    "test_df = features_date(test_df)\n",
    "test_df = features_crime(test_df)\n",
    "test_df = clean_intersect_block_address(test_df)\n",
    "test_df = features_xy_test(train_df, test_df)\n",
    "test_df = label_encode(test_df)"
   ]
  },
  {
   "cell_type": "code",
   "execution_count": 135,
   "metadata": {
    "collapsed": true
   },
   "outputs": [],
   "source": [
    "train_df = features_date(train_df)\n",
    "train_df = features_crime(train_df)\n",
    "train_df = clean_intersect_block_address(train_df)\n",
    "train_df = features_xy(train_df)\n",
    "train_df = label_encode(train_df)"
   ]
  },
  {
   "cell_type": "code",
   "execution_count": 136,
   "metadata": {
    "collapsed": true
   },
   "outputs": [],
   "source": [
    "train_df = train_df.drop('Resolution', 1)\n",
    "train_df = train_df.drop('Descript', 1)\n",
    "train_df = train_df.drop('Date', 1)\n",
    "train_df = train_df.drop('Address', 1)\n",
    "#train_df = train_df.drop('PdDistrict', 1)\n",
    "#train_df = train_df.drop('DayOfWeek', 1)\n",
    "#train_df = train_df.drop('Year', 1)"
   ]
  },
  {
   "cell_type": "code",
   "execution_count": 137,
   "metadata": {
    "collapsed": true
   },
   "outputs": [],
   "source": [
    "test_df = test_df.drop('Date', 1)\n",
    "test_df = test_df.drop('Address', 1)\n",
    "#test_df = test_df.drop('PdDistrict', 1)"
   ]
  },
  {
   "cell_type": "code",
   "execution_count": 138,
   "metadata": {
    "collapsed": true
   },
   "outputs": [],
   "source": [
    "best_features_sorted = ['Time', 'DayOfYear', 'Minutes', 'Day', 'Year', 'DayOfWeek', 'logodds21', 'logodds16', 'logoddsPA', 'logodds36', 'logodds20', 'logodds1', 'logodds35', 'X', 'logodds32', 'RUNAWAY_r', 'logodds37', 'logodds4', 'logodds25', 'logodds7', 'logodds13', 'rot60_Y', 'Y', 'logodds19', 'rot45_Y', 'rot30_X', 'rot30_Y', 'logodds12', 'logodds27', 'logodds38', 'RECOVERED VEHICLE_r', 'TREA_r', 'rot60_X', 'logodds34', 'rot45_X', 'VEHICLE THEFT_r', 'radial_r', 'logodds30', 'logodds28', 'logodds8', 'FAMILY OFFENSES_r', 'DRUG/NARCOTIC_r', 'BURGLARY_r', 'logodds5', 'PORNOGRAPHY/OBSCENE MAT_r', 'isWorkingday', 'SEX OFFENSES NON FORCIBLE_r', 'Night', 'MISSING PERSON_r', 'Month', 'GAMBLING_r', 'logodds15', 'VANDALISM_r', 'logodds24', 'isSummer', 'ARSON_r', 'logodds17', 'logodds6', 'DRIVING UNDER THE INFLUENCE_r', 'SECONDARY CODES_r', 'TRESPASS_r', 'OTHER OFFENSES_r', 'isFall', 'LARCENY/THEFT_r', 'WEAPON LAWS_r', 'logodds23', 'isStreetCorner', 'isThursday', 'KIDNAPPING_r', 'logodds0', 'isMonday', 'isSunday', 'isTuesday', 'BRIBERY_r', 'isSaturday', 'isSpring', 'logodds9', 'PROSTITUTION_r', 'DISORDERLY CONDUCT_r', 'SUICIDE_r', 'logodds18', 'WARRANTS_r', 'BAD CHECKS_r', 'isWinter', 'FORGERY/COUNTERFEITING_r', 'LOITERING_r', 'FRAUD_r', 'EXTORTION_r', 'STOLEN PROPERTY_r', 'ROBBERY_r', 'logodds26', 'EMBEZZLEMENT_r', 'logodds11', 'NON-CRIMINAL_r', 'ASSAULT_r', 'logodds2', 'logodds31', 'SUSPICIOUS OCC_r', 'LIQUOR LAWS_r', 'DRUNKENNESS_r', 'logodds3', 'logodds10', 'SEX OFFENSES FORCIBLE_r', 'isNORTHERN', 'isINGLESIDE', 'logodds14', 'Bin2_3', 'logodds29', 'isSOUTHERN', 'isTENDERLOIN', 'isPARK', 'isCENTRAL', 'Bin3_1', 'Bin2_0', 'Bin3_3', 'Bin1_1', 'Bin2_2', 'Bin1_2', 'isBAYVIEW', 'isRICHMOND', 'Bin1_0', 'Bin4_1', 'Bin3_0', 'Bin2_1', 'Bin1_3', 'Bin0_2', 'isTARAVAL', 'logodds22', 'Bin3_2', 'Bin0_1', 'Bin2_4', 'Bin3_4', 'Bin4_3', 'isMISSION', 'Bin0_3', 'Bin4_2', 'Bin4_0']"
   ]
  },
  {
   "cell_type": "code",
   "execution_count": 139,
   "metadata": {},
   "outputs": [
    {
     "name": "stdout",
     "output_type": "stream",
     "text": [
      "(878049, 65)\n",
      "(878049,)\n"
     ]
    }
   ],
   "source": [
    "y_name = 'Category'\n",
    "X_names = [col for col in train_df.columns.values if col not in y_name] \n",
    "\n",
    "X_train = train_df[X_names]\n",
    "y_train = train_df[y_name]\n",
    "\n",
    "\n",
    "print(X_train.shape)\n",
    "print(y_train.shape)"
   ]
  },
  {
   "cell_type": "code",
   "execution_count": 140,
   "metadata": {},
   "outputs": [
    {
     "name": "stdout",
     "output_type": "stream",
     "text": [
      "(884262, 65)\n"
     ]
    }
   ],
   "source": [
    "X_test = test_df[X_names]\n",
    "print(X_test.shape)\n"
   ]
  },
  {
   "cell_type": "code",
   "execution_count": 141,
   "metadata": {
    "collapsed": true
   },
   "outputs": [],
   "source": [
    "\n",
    "from xgboost.sklearn import XGBClassifier\n",
    "from xgboost import plot_importance\n",
    "from xgboost import plot_tree\n",
    "\n",
    "def xgb_probs(X_train, y_train, X_test):\n",
    "\n",
    "    xgb_model = XGBClassifier(n_estimators=20,\n",
    "                              learning_rate=0.2,\n",
    "                              max_depth=11,\n",
    "                              min_child_weight=4,\n",
    "                              gamma=0.4,\n",
    "                              reg_alpha=0.05,\n",
    "                              reg_lambda=2,\n",
    "                              subsample=1.0,\n",
    "                              colsample_bytree=1.0,\n",
    "                              max_delta_step=1,\n",
    "                              scale_pos_weight=1,\n",
    "                              objective='multi:softprob',\n",
    "                              nthread=8,\n",
    "                              seed=0  # ,\n",
    "                              # silent = False\n",
    "                              )\n",
    "    \n",
    "    xgb_model.fit(X_train, y_train)\n",
    "\n",
    "    y_probs = xgb_model.predict_proba(X_test)\n",
    "    \n",
    "    return (y_probs, xgb_model)\n"
   ]
  },
  {
   "cell_type": "code",
   "execution_count": 142,
   "metadata": {
    "collapsed": true,
    "scrolled": false
   },
   "outputs": [],
   "source": [
    "from sklearn.metrics import log_loss\n",
    "\n",
    "y_probs, model = xgb_probs(X_train, y_train, X_test)"
   ]
  },
  {
   "cell_type": "code",
   "execution_count": 143,
   "metadata": {},
   "outputs": [
    {
     "data": {
      "text/plain": [
       "array([[ 0.00340627,  0.0957073 ,  0.00341843, ...,  0.19545285,\n",
       "         0.07745969,  0.01851682],\n",
       "       [ 0.00324905,  0.08941876,  0.00326065, ...,  0.01207961,\n",
       "         0.10687033,  0.02403306],\n",
       "       [ 0.00427751,  0.0687607 ,  0.00429278, ...,  0.12923408,\n",
       "         0.00429723,  0.00427729],\n",
       "       ..., \n",
       "       [ 0.00282439,  0.04838618,  0.00283447, ...,  0.03960586,\n",
       "         0.00425358,  0.00282449],\n",
       "       [ 0.00224694,  0.08781697,  0.00225496, ...,  0.02913062,\n",
       "         0.0074652 ,  0.01217797],\n",
       "       [ 0.01365151,  0.06546612,  0.0081615 , ...,  0.07753725,\n",
       "         0.03203512,  0.00844304]], dtype=float32)"
      ]
     },
     "execution_count": 143,
     "metadata": {},
     "output_type": "execute_result"
    }
   ],
   "source": [
    "y_probs"
   ]
  },
  {
   "cell_type": "code",
   "execution_count": 144,
   "metadata": {},
   "outputs": [
    {
     "data": {
      "text/plain": [
       "array(['ARSON', 'ASSAULT', 'BAD CHECKS', 'BRIBERY', 'BURGLARY',\n",
       "       'DISORDERLY CONDUCT', 'DRIVING UNDER THE INFLUENCE',\n",
       "       'DRUG/NARCOTIC', 'DRUNKENNESS', 'EMBEZZLEMENT', 'EXTORTION',\n",
       "       'FAMILY OFFENSES', 'FORGERY/COUNTERFEITING', 'FRAUD', 'GAMBLING',\n",
       "       'KIDNAPPING', 'LARCENY/THEFT', 'LIQUOR LAWS', 'LOITERING',\n",
       "       'MISSING PERSON', 'NON-CRIMINAL', 'OTHER OFFENSES',\n",
       "       'PORNOGRAPHY/OBSCENE MAT', 'PROSTITUTION', 'RECOVERED VEHICLE',\n",
       "       'ROBBERY', 'RUNAWAY', 'SECONDARY CODES', 'SEX OFFENSES FORCIBLE',\n",
       "       'SEX OFFENSES NON FORCIBLE', 'STOLEN PROPERTY', 'SUICIDE',\n",
       "       'SUSPICIOUS OCC', 'TREA', 'TRESPASS', 'VANDALISM', 'VEHICLE THEFT',\n",
       "       'WARRANTS', 'WEAPON LAWS'], dtype=object)"
      ]
     },
     "execution_count": 144,
     "metadata": {},
     "output_type": "execute_result"
    }
   ],
   "source": [
    "classes = model.classes_\n",
    "classes"
   ]
  },
  {
   "cell_type": "code",
   "execution_count": 145,
   "metadata": {
    "collapsed": true
   },
   "outputs": [],
   "source": [
    "submission_baseline_df = pd.DataFrame(data = y_probs, index=list(range(len(y_probs))), columns=classes)\n",
    "submission_baseline_df.index.names = ['Id']"
   ]
  },
  {
   "cell_type": "code",
   "execution_count": 146,
   "metadata": {
    "scrolled": true
   },
   "outputs": [
    {
     "data": {
      "text/html": [
       "<div>\n",
       "<style>\n",
       "    .dataframe thead tr:only-child th {\n",
       "        text-align: right;\n",
       "    }\n",
       "\n",
       "    .dataframe thead th {\n",
       "        text-align: left;\n",
       "    }\n",
       "\n",
       "    .dataframe tbody tr th {\n",
       "        vertical-align: top;\n",
       "    }\n",
       "</style>\n",
       "<table border=\"1\" class=\"dataframe\">\n",
       "  <thead>\n",
       "    <tr style=\"text-align: right;\">\n",
       "      <th></th>\n",
       "      <th>ARSON</th>\n",
       "      <th>ASSAULT</th>\n",
       "      <th>BAD CHECKS</th>\n",
       "      <th>BRIBERY</th>\n",
       "      <th>BURGLARY</th>\n",
       "      <th>DISORDERLY CONDUCT</th>\n",
       "      <th>DRIVING UNDER THE INFLUENCE</th>\n",
       "      <th>DRUG/NARCOTIC</th>\n",
       "      <th>DRUNKENNESS</th>\n",
       "      <th>EMBEZZLEMENT</th>\n",
       "      <th>...</th>\n",
       "      <th>SEX OFFENSES NON FORCIBLE</th>\n",
       "      <th>STOLEN PROPERTY</th>\n",
       "      <th>SUICIDE</th>\n",
       "      <th>SUSPICIOUS OCC</th>\n",
       "      <th>TREA</th>\n",
       "      <th>TRESPASS</th>\n",
       "      <th>VANDALISM</th>\n",
       "      <th>VEHICLE THEFT</th>\n",
       "      <th>WARRANTS</th>\n",
       "      <th>WEAPON LAWS</th>\n",
       "    </tr>\n",
       "    <tr>\n",
       "      <th>Id</th>\n",
       "      <th></th>\n",
       "      <th></th>\n",
       "      <th></th>\n",
       "      <th></th>\n",
       "      <th></th>\n",
       "      <th></th>\n",
       "      <th></th>\n",
       "      <th></th>\n",
       "      <th></th>\n",
       "      <th></th>\n",
       "      <th></th>\n",
       "      <th></th>\n",
       "      <th></th>\n",
       "      <th></th>\n",
       "      <th></th>\n",
       "      <th></th>\n",
       "      <th></th>\n",
       "      <th></th>\n",
       "      <th></th>\n",
       "      <th></th>\n",
       "      <th></th>\n",
       "    </tr>\n",
       "  </thead>\n",
       "  <tbody>\n",
       "    <tr>\n",
       "      <th>0</th>\n",
       "      <td>0.003406</td>\n",
       "      <td>0.095707</td>\n",
       "      <td>0.003418</td>\n",
       "      <td>0.003414</td>\n",
       "      <td>0.012031</td>\n",
       "      <td>0.003409</td>\n",
       "      <td>0.003407</td>\n",
       "      <td>0.041505</td>\n",
       "      <td>0.023977</td>\n",
       "      <td>0.006795</td>\n",
       "      <td>...</td>\n",
       "      <td>0.003417</td>\n",
       "      <td>0.003408</td>\n",
       "      <td>0.003415</td>\n",
       "      <td>0.038097</td>\n",
       "      <td>0.003407</td>\n",
       "      <td>0.009102</td>\n",
       "      <td>0.077339</td>\n",
       "      <td>0.195453</td>\n",
       "      <td>0.077460</td>\n",
       "      <td>0.018517</td>\n",
       "    </tr>\n",
       "    <tr>\n",
       "      <th>1</th>\n",
       "      <td>0.003249</td>\n",
       "      <td>0.089419</td>\n",
       "      <td>0.003261</td>\n",
       "      <td>0.003256</td>\n",
       "      <td>0.003255</td>\n",
       "      <td>0.003252</td>\n",
       "      <td>0.007248</td>\n",
       "      <td>0.018176</td>\n",
       "      <td>0.003251</td>\n",
       "      <td>0.003250</td>\n",
       "      <td>...</td>\n",
       "      <td>0.003259</td>\n",
       "      <td>0.003252</td>\n",
       "      <td>0.003257</td>\n",
       "      <td>0.044617</td>\n",
       "      <td>0.003250</td>\n",
       "      <td>0.007513</td>\n",
       "      <td>0.007434</td>\n",
       "      <td>0.012080</td>\n",
       "      <td>0.106870</td>\n",
       "      <td>0.024033</td>\n",
       "    </tr>\n",
       "    <tr>\n",
       "      <th>2</th>\n",
       "      <td>0.004278</td>\n",
       "      <td>0.068761</td>\n",
       "      <td>0.004293</td>\n",
       "      <td>0.004287</td>\n",
       "      <td>0.169115</td>\n",
       "      <td>0.004281</td>\n",
       "      <td>0.004278</td>\n",
       "      <td>0.004279</td>\n",
       "      <td>0.004278</td>\n",
       "      <td>0.004278</td>\n",
       "      <td>...</td>\n",
       "      <td>0.004291</td>\n",
       "      <td>0.004280</td>\n",
       "      <td>0.004288</td>\n",
       "      <td>0.071076</td>\n",
       "      <td>0.004279</td>\n",
       "      <td>0.004281</td>\n",
       "      <td>0.104806</td>\n",
       "      <td>0.129234</td>\n",
       "      <td>0.004297</td>\n",
       "      <td>0.004277</td>\n",
       "    </tr>\n",
       "    <tr>\n",
       "      <th>3</th>\n",
       "      <td>0.003672</td>\n",
       "      <td>0.202218</td>\n",
       "      <td>0.003685</td>\n",
       "      <td>0.008422</td>\n",
       "      <td>0.018614</td>\n",
       "      <td>0.010463</td>\n",
       "      <td>0.005464</td>\n",
       "      <td>0.050064</td>\n",
       "      <td>0.023076</td>\n",
       "      <td>0.004151</td>\n",
       "      <td>...</td>\n",
       "      <td>0.003684</td>\n",
       "      <td>0.007148</td>\n",
       "      <td>0.004361</td>\n",
       "      <td>0.051493</td>\n",
       "      <td>0.003673</td>\n",
       "      <td>0.009064</td>\n",
       "      <td>0.079978</td>\n",
       "      <td>0.008842</td>\n",
       "      <td>0.036099</td>\n",
       "      <td>0.031915</td>\n",
       "    </tr>\n",
       "    <tr>\n",
       "      <th>4</th>\n",
       "      <td>0.003672</td>\n",
       "      <td>0.202218</td>\n",
       "      <td>0.003685</td>\n",
       "      <td>0.008422</td>\n",
       "      <td>0.018614</td>\n",
       "      <td>0.010463</td>\n",
       "      <td>0.005464</td>\n",
       "      <td>0.050064</td>\n",
       "      <td>0.023076</td>\n",
       "      <td>0.004151</td>\n",
       "      <td>...</td>\n",
       "      <td>0.003684</td>\n",
       "      <td>0.007148</td>\n",
       "      <td>0.004361</td>\n",
       "      <td>0.051493</td>\n",
       "      <td>0.003673</td>\n",
       "      <td>0.009064</td>\n",
       "      <td>0.079978</td>\n",
       "      <td>0.008842</td>\n",
       "      <td>0.036099</td>\n",
       "      <td>0.031915</td>\n",
       "    </tr>\n",
       "  </tbody>\n",
       "</table>\n",
       "<p>5 rows × 39 columns</p>\n",
       "</div>"
      ],
      "text/plain": [
       "       ARSON   ASSAULT  BAD CHECKS   BRIBERY  BURGLARY  DISORDERLY CONDUCT  \\\n",
       "Id                                                                           \n",
       "0   0.003406  0.095707    0.003418  0.003414  0.012031            0.003409   \n",
       "1   0.003249  0.089419    0.003261  0.003256  0.003255            0.003252   \n",
       "2   0.004278  0.068761    0.004293  0.004287  0.169115            0.004281   \n",
       "3   0.003672  0.202218    0.003685  0.008422  0.018614            0.010463   \n",
       "4   0.003672  0.202218    0.003685  0.008422  0.018614            0.010463   \n",
       "\n",
       "    DRIVING UNDER THE INFLUENCE  DRUG/NARCOTIC  DRUNKENNESS  EMBEZZLEMENT  \\\n",
       "Id                                                                          \n",
       "0                      0.003407       0.041505     0.023977      0.006795   \n",
       "1                      0.007248       0.018176     0.003251      0.003250   \n",
       "2                      0.004278       0.004279     0.004278      0.004278   \n",
       "3                      0.005464       0.050064     0.023076      0.004151   \n",
       "4                      0.005464       0.050064     0.023076      0.004151   \n",
       "\n",
       "       ...       SEX OFFENSES NON FORCIBLE  STOLEN PROPERTY   SUICIDE  \\\n",
       "Id     ...                                                              \n",
       "0      ...                        0.003417         0.003408  0.003415   \n",
       "1      ...                        0.003259         0.003252  0.003257   \n",
       "2      ...                        0.004291         0.004280  0.004288   \n",
       "3      ...                        0.003684         0.007148  0.004361   \n",
       "4      ...                        0.003684         0.007148  0.004361   \n",
       "\n",
       "    SUSPICIOUS OCC      TREA  TRESPASS  VANDALISM  VEHICLE THEFT  WARRANTS  \\\n",
       "Id                                                                           \n",
       "0         0.038097  0.003407  0.009102   0.077339       0.195453  0.077460   \n",
       "1         0.044617  0.003250  0.007513   0.007434       0.012080  0.106870   \n",
       "2         0.071076  0.004279  0.004281   0.104806       0.129234  0.004297   \n",
       "3         0.051493  0.003673  0.009064   0.079978       0.008842  0.036099   \n",
       "4         0.051493  0.003673  0.009064   0.079978       0.008842  0.036099   \n",
       "\n",
       "    WEAPON LAWS  \n",
       "Id               \n",
       "0      0.018517  \n",
       "1      0.024033  \n",
       "2      0.004277  \n",
       "3      0.031915  \n",
       "4      0.031915  \n",
       "\n",
       "[5 rows x 39 columns]"
      ]
     },
     "execution_count": 146,
     "metadata": {},
     "output_type": "execute_result"
    }
   ],
   "source": [
    "submission_baseline_df.head()\n"
   ]
  },
  {
   "cell_type": "code",
   "execution_count": 147,
   "metadata": {
    "scrolled": true
   },
   "outputs": [
    {
     "data": {
      "text/plain": [
       "array(['ARSON', 'ASSAULT', 'BAD CHECKS', 'BRIBERY', 'BURGLARY',\n",
       "       'DISORDERLY CONDUCT', 'DRIVING UNDER THE INFLUENCE',\n",
       "       'DRUG/NARCOTIC', 'DRUNKENNESS', 'EMBEZZLEMENT', 'EXTORTION',\n",
       "       'FAMILY OFFENSES', 'FORGERY/COUNTERFEITING', 'FRAUD', 'GAMBLING',\n",
       "       'KIDNAPPING', 'LARCENY/THEFT', 'LIQUOR LAWS', 'LOITERING',\n",
       "       'MISSING PERSON', 'NON-CRIMINAL', 'OTHER OFFENSES',\n",
       "       'PORNOGRAPHY/OBSCENE MAT', 'PROSTITUTION', 'RECOVERED VEHICLE',\n",
       "       'ROBBERY', 'RUNAWAY', 'SECONDARY CODES', 'SEX OFFENSES FORCIBLE',\n",
       "       'SEX OFFENSES NON FORCIBLE', 'STOLEN PROPERTY', 'SUICIDE',\n",
       "       'SUSPICIOUS OCC', 'TREA', 'TRESPASS', 'VANDALISM', 'VEHICLE THEFT',\n",
       "       'WARRANTS', 'WEAPON LAWS'], dtype=object)"
      ]
     },
     "execution_count": 147,
     "metadata": {},
     "output_type": "execute_result"
    }
   ],
   "source": [
    "submission_baseline_df.columns.values"
   ]
  },
  {
   "cell_type": "code",
   "execution_count": 148,
   "metadata": {},
   "outputs": [
    {
     "name": "stdout",
     "output_type": "stream",
     "text": [
      "DONE\n"
     ]
    }
   ],
   "source": [
    "submission_baseline_df.to_csv(\"xgb_features_4_sel.csv\")\n",
    "print(\"DONE\")"
   ]
  },
  {
   "cell_type": "code",
   "execution_count": 149,
   "metadata": {},
   "outputs": [
    {
     "data": {
      "text/plain": [
       "(884262, 40)"
      ]
     },
     "execution_count": 149,
     "metadata": {},
     "output_type": "execute_result"
    }
   ],
   "source": [
    "submission_test = pd.read_csv(\"xgb_features_4_sel.csv\")\n",
    "submission_test.shape"
   ]
  },
  {
   "cell_type": "code",
   "execution_count": null,
   "metadata": {
    "collapsed": true
   },
   "outputs": [],
   "source": []
  }
 ],
 "metadata": {
  "anaconda-cloud": {},
  "kernelspec": {
   "display_name": "Python 2",
   "language": "python",
   "name": "python2"
  },
  "language_info": {
   "codemirror_mode": {
    "name": "ipython",
    "version": 2
   },
   "file_extension": ".py",
   "mimetype": "text/x-python",
   "name": "python",
   "nbconvert_exporter": "python",
   "pygments_lexer": "ipython2",
   "version": "2.7.12"
  }
 },
 "nbformat": 4,
 "nbformat_minor": 2
}
